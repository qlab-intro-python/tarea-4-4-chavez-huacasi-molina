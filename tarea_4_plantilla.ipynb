{
 "cells": [
  {
   "cell_type": "markdown",
   "metadata": {},
   "source": [
    "# **Tarea Nº 4**"
   ]
  },
  {
   "cell_type": "markdown",
   "metadata": {},
   "source": [
    "- Fecha y hora de entrega: Domingo 12 de enero, 11:59pm\n",
    "- Agregue los nombres de las personas con las que discutió esta tarea: ____ Armando Paredes ______\n",
    "- Envíe su tarea haciendo el `push` de su código a su repo en GitHub Classroom: "
   ]
  },
  {
   "cell_type": "markdown",
   "metadata": {},
   "source": [
    "### Evaluación\n",
    "\n",
    "- Nota: **17/20**\n",
    "\n",
    "¡Buen trabajo en general!"
   ]
  },
  {
   "cell_type": "markdown",
   "metadata": {},
   "source": [
    "## **Mercado de autos usados**"
   ]
  },
  {
   "cell_type": "markdown",
   "metadata": {},
   "source": [
    "Importa el conjunto de datos `neoauto_20240924.csv`\n",
    "    "
   ]
  },
  {
   "cell_type": "code",
   "execution_count": 19,
   "metadata": {},
   "outputs": [
    {
     "data": {
      "text/html": [
       "<div>\n",
       "<style scoped>\n",
       "    .dataframe tbody tr th:only-of-type {\n",
       "        vertical-align: middle;\n",
       "    }\n",
       "\n",
       "    .dataframe tbody tr th {\n",
       "        vertical-align: top;\n",
       "    }\n",
       "\n",
       "    .dataframe thead th {\n",
       "        text-align: right;\n",
       "    }\n",
       "</style>\n",
       "<table border=\"1\" class=\"dataframe\">\n",
       "  <thead>\n",
       "    <tr style=\"text-align: right;\">\n",
       "      <th></th>\n",
       "      <th>value</th>\n",
       "      <th>item_id</th>\n",
       "      <th>item_price</th>\n",
       "      <th>item_name</th>\n",
       "      <th>item_category</th>\n",
       "      <th>item_category_2</th>\n",
       "      <th>item_brand</th>\n",
       "      <th>item_km</th>\n",
       "      <th>item_year</th>\n",
       "      <th>item_transmission</th>\n",
       "      <th>...</th>\n",
       "      <th>item_location_province</th>\n",
       "      <th>item_tag</th>\n",
       "      <th>item_advertiser</th>\n",
       "      <th>item_credit</th>\n",
       "      <th>item_verified</th>\n",
       "      <th>item_financed_by</th>\n",
       "      <th>santander_price</th>\n",
       "      <th>item_publication_slug</th>\n",
       "      <th>item_publication_type</th>\n",
       "      <th>item_publication_type_Id</th>\n",
       "    </tr>\n",
       "  </thead>\n",
       "  <tbody>\n",
       "    <tr>\n",
       "      <th>0</th>\n",
       "      <td>29200</td>\n",
       "      <td>1807331</td>\n",
       "      <td>29200.0</td>\n",
       "      <td>toyota hilux 2021</td>\n",
       "      <td>autos</td>\n",
       "      <td>Pick Up</td>\n",
       "      <td>TOYOTA</td>\n",
       "      <td>51635.0</td>\n",
       "      <td>2021</td>\n",
       "      <td>Mecánica</td>\n",
       "      <td>...</td>\n",
       "      <td>lima</td>\n",
       "      <td>Como nuevo</td>\n",
       "      <td>Erick Bazán Ubaldo</td>\n",
       "      <td>True</td>\n",
       "      <td>True</td>\n",
       "      <td>Santander</td>\n",
       "      <td>NaN</td>\n",
       "      <td>auto/usado/toyota-hilux-2021-1807331</td>\n",
       "      <td>PREMIUM</td>\n",
       "      <td>25</td>\n",
       "    </tr>\n",
       "    <tr>\n",
       "      <th>1</th>\n",
       "      <td>98500</td>\n",
       "      <td>1807393</td>\n",
       "      <td>98500.0</td>\n",
       "      <td>lexus lx 600 2023</td>\n",
       "      <td>autos</td>\n",
       "      <td>Camionetas Suv</td>\n",
       "      <td>LEXUS</td>\n",
       "      <td>15000.0</td>\n",
       "      <td>2023</td>\n",
       "      <td>Automática - Secuencial</td>\n",
       "      <td>...</td>\n",
       "      <td>lima</td>\n",
       "      <td>Como nuevo</td>\n",
       "      <td>Asesor Gabriel NovoCar</td>\n",
       "      <td>False</td>\n",
       "      <td>True</td>\n",
       "      <td>NaN</td>\n",
       "      <td>NaN</td>\n",
       "      <td>auto/usado/lexus-lx-600-2023-1807393</td>\n",
       "      <td>PREMIUM</td>\n",
       "      <td>25</td>\n",
       "    </tr>\n",
       "    <tr>\n",
       "      <th>2</th>\n",
       "      <td>16800</td>\n",
       "      <td>1739308</td>\n",
       "      <td>17800.0</td>\n",
       "      <td>bmw 520-i 2016</td>\n",
       "      <td>autos</td>\n",
       "      <td>Sedan</td>\n",
       "      <td>BMW</td>\n",
       "      <td>66000.0</td>\n",
       "      <td>2016</td>\n",
       "      <td>Automática - Secuencial</td>\n",
       "      <td>...</td>\n",
       "      <td>lima</td>\n",
       "      <td>Ocasión</td>\n",
       "      <td>Carlos Chauca</td>\n",
       "      <td>True</td>\n",
       "      <td>True</td>\n",
       "      <td>Santander</td>\n",
       "      <td>16800.0</td>\n",
       "      <td>auto/usado/bmw-520-i-2016-1739308</td>\n",
       "      <td>PREMIUM</td>\n",
       "      <td>25</td>\n",
       "    </tr>\n",
       "    <tr>\n",
       "      <th>3</th>\n",
       "      <td>15900</td>\n",
       "      <td>1805714</td>\n",
       "      <td>16900.0</td>\n",
       "      <td>chevrolet captiva 2021</td>\n",
       "      <td>autos</td>\n",
       "      <td>Camionetas Suv</td>\n",
       "      <td>CHEVROLET</td>\n",
       "      <td>40300.0</td>\n",
       "      <td>2021</td>\n",
       "      <td>Automática - Secuencial</td>\n",
       "      <td>...</td>\n",
       "      <td>santa</td>\n",
       "      <td>Premium</td>\n",
       "      <td>Darwin Américo Barrón Pastor</td>\n",
       "      <td>True</td>\n",
       "      <td>True</td>\n",
       "      <td>Santander</td>\n",
       "      <td>15900.0</td>\n",
       "      <td>auto/usado/chevrolet-captiva-2021-1805714</td>\n",
       "      <td>PREMIUM</td>\n",
       "      <td>25</td>\n",
       "    </tr>\n",
       "    <tr>\n",
       "      <th>4</th>\n",
       "      <td>12500</td>\n",
       "      <td>1806332</td>\n",
       "      <td>12500.0</td>\n",
       "      <td>dfsk glory 500 2023</td>\n",
       "      <td>autos</td>\n",
       "      <td>Camionetas Suv</td>\n",
       "      <td>DFSK</td>\n",
       "      <td>33000.0</td>\n",
       "      <td>2023</td>\n",
       "      <td>Mecánica</td>\n",
       "      <td>...</td>\n",
       "      <td>lima</td>\n",
       "      <td>Premium</td>\n",
       "      <td>GORDILLO FERNANDO</td>\n",
       "      <td>True</td>\n",
       "      <td>True</td>\n",
       "      <td>Santander</td>\n",
       "      <td>NaN</td>\n",
       "      <td>auto/usado/dfsk-glory-500-2023-1806332</td>\n",
       "      <td>PREMIUM</td>\n",
       "      <td>25</td>\n",
       "    </tr>\n",
       "  </tbody>\n",
       "</table>\n",
       "<p>5 rows × 23 columns</p>\n",
       "</div>"
      ],
      "text/plain": [
       "   value  item_id  item_price               item_name item_category  \\\n",
       "0  29200  1807331     29200.0       toyota hilux 2021         autos   \n",
       "1  98500  1807393     98500.0       lexus lx 600 2023         autos   \n",
       "2  16800  1739308     17800.0          bmw 520-i 2016         autos   \n",
       "3  15900  1805714     16900.0  chevrolet captiva 2021         autos   \n",
       "4  12500  1806332     12500.0     dfsk glory 500 2023         autos   \n",
       "\n",
       "  item_category_2 item_brand  item_km  item_year        item_transmission  \\\n",
       "0         Pick Up     TOYOTA  51635.0       2021                 Mecánica   \n",
       "1  Camionetas Suv      LEXUS  15000.0       2023  Automática - Secuencial   \n",
       "2           Sedan        BMW  66000.0       2016  Automática - Secuencial   \n",
       "3  Camionetas Suv  CHEVROLET  40300.0       2021  Automática - Secuencial   \n",
       "4  Camionetas Suv       DFSK  33000.0       2023                 Mecánica   \n",
       "\n",
       "   ... item_location_province    item_tag               item_advertiser  \\\n",
       "0  ...                   lima  Como nuevo            Erick Bazán Ubaldo   \n",
       "1  ...                   lima  Como nuevo        Asesor Gabriel NovoCar   \n",
       "2  ...                   lima     Ocasión                 Carlos Chauca   \n",
       "3  ...                  santa     Premium  Darwin Américo Barrón Pastor   \n",
       "4  ...                   lima     Premium             GORDILLO FERNANDO   \n",
       "\n",
       "  item_credit item_verified item_financed_by  santander_price  \\\n",
       "0        True          True        Santander              NaN   \n",
       "1       False          True              NaN              NaN   \n",
       "2        True          True        Santander          16800.0   \n",
       "3        True          True        Santander          15900.0   \n",
       "4        True          True        Santander              NaN   \n",
       "\n",
       "                       item_publication_slug item_publication_type  \\\n",
       "0       auto/usado/toyota-hilux-2021-1807331               PREMIUM   \n",
       "1       auto/usado/lexus-lx-600-2023-1807393               PREMIUM   \n",
       "2          auto/usado/bmw-520-i-2016-1739308               PREMIUM   \n",
       "3  auto/usado/chevrolet-captiva-2021-1805714               PREMIUM   \n",
       "4     auto/usado/dfsk-glory-500-2023-1806332               PREMIUM   \n",
       "\n",
       "   item_publication_type_Id  \n",
       "0                        25  \n",
       "1                        25  \n",
       "2                        25  \n",
       "3                        25  \n",
       "4                        25  \n",
       "\n",
       "[5 rows x 23 columns]"
      ]
     },
     "execution_count": 19,
     "metadata": {},
     "output_type": "execute_result"
    }
   ],
   "source": [
    "import pandas as pd\n",
    "\n",
    "file_path = 'neoauto_20240924.csv'\n",
    "\n",
    "neoauto_data = pd.read_csv(file_path)\n",
    "\n",
    "neoauto_data.head()\n"
   ]
  },
  {
   "cell_type": "markdown",
   "metadata": {},
   "source": [
    "1. ¿Cuál es el precio promedio de los autos de cada marca (`item_brand`) publicados en cada subcategoría (`item_category_2`)?"
   ]
  },
  {
   "cell_type": "code",
   "execution_count": 20,
   "metadata": {},
   "outputs": [
    {
     "name": "stdout",
     "output_type": "stream",
     "text": [
      "          Marca    Subcategoría  Precio Promedio\n",
      "0    ALFA-ROMEO       Hatchback           8500.0\n",
      "1    ALFA-ROMEO           Sedan           2500.0\n",
      "2  ASTON MARTIN  Camionetas Suv         229000.0\n",
      "3  ASTON MARTIN       Deportivo         169990.0\n",
      "4  ASTON MARTIN           Sedan         149900.0\n"
     ]
    }
   ],
   "source": [
    "precio_promedio = data.groupby(['item_brand', 'item_category_2'])['item_price'].mean().reset_index()\n",
    "\n",
    "precio_promedio.columns = ['Marca', 'Subcategoría', 'Precio Promedio']\n",
    "\n",
    "print(precio_promedio.head())"
   ]
  },
  {
   "cell_type": "markdown",
   "metadata": {},
   "source": [
    "2. ¿Cuántos autos tienen más de 100,000 kilómetros (`item_km`) pero un precio (`item_price`) menor al promedio general?"
   ]
  },
  {
   "cell_type": "code",
   "execution_count": 21,
   "metadata": {},
   "outputs": [
    {
     "name": "stdout",
     "output_type": "stream",
     "text": [
      "El número de autos con más de 100,000 kilómetros y precio menor al promedio general es: 497\n"
     ]
    }
   ],
   "source": [
    "precio_promedio_general = data['item_price'].mean()\n",
    "\n",
    "autos_filtrados = data[(data['item_km'] > 100000) & (data['item_price'] < precio_promedio_general)]\n",
    "\n",
    "cantidad_autos = autos_filtrados.shape[0]\n",
    "\n",
    "print(f\"El número de autos con más de 100,000 kilómetros y precio menor al promedio general es: {cantidad_autos}\")\n"
   ]
  },
  {
   "cell_type": "markdown",
   "metadata": {},
   "source": [
    "3. Encuentra el modelo (`item_name`) más caro y el más barato de cada marca (`item_brand`)."
   ]
  },
  {
   "cell_type": "code",
   "execution_count": 38,
   "metadata": {},
   "outputs": [
    {
     "name": "stdout",
     "output_type": "stream",
     "text": [
      "          Marca          Modelo_Mas_Caro  Precio_Mas_Caro  \\\n",
      "0    ALFA-ROMEO      alfa-romeo 147 2006           8500.0   \n",
      "1  ASTON MARTIN    aston martin dbx 2021         229000.0   \n",
      "2          AUDI           audi rs 6 2024         220000.0   \n",
      "3        AUSTIN  austin mini cooper 1970              1.0   \n",
      "4          BAIC            baic x55 2021          12800.0   \n",
      "\n",
      "         Modelo_Mas_Barato  Precio_Mas_Barato  \n",
      "0  alfa-romeo alfasud 1982             2500.0  \n",
      "1   aston martin db11 2017           149900.0  \n",
      "2       audi a3 sedan 2015                0.0  \n",
      "3  austin mini cooper 1970                1.0  \n",
      "4           baic plus 2018             7500.0  \n"
     ]
    }
   ],
   "source": [
    "mas_caro = data.loc[data.groupby('item_brand')['item_price'].idxmax()]\n",
    "mas_barato = data.loc[data.groupby('item_brand')['item_price'].idxmin()]\n",
    "\n",
    "modelos_extremos = pd.merge(\n",
    "    mas_caro[['item_brand', 'item_name', 'item_price']],\n",
    "    mas_barato[['item_brand', 'item_name', 'item_price']],\n",
    "    on='item_brand',\n",
    "    suffixes=('_Mas_Caro', '_Mas_Barato')\n",
    ")\n",
    "\n",
    "modelos_extremos.columns = ['Marca', 'Modelo_Mas_Caro', 'Precio_Mas_Caro', 'Modelo_Mas_Barato', 'Precio_Mas_Barato']\n",
    "\n",
    "print(modelos_extremos.head())"
   ]
  },
  {
   "cell_type": "markdown",
   "metadata": {},
   "source": [
    "4. Encuentra las tres marcas con mayor número de autos financiados por Santander (`item_financed_by`). "
   ]
  },
  {
   "cell_type": "code",
   "execution_count": 23,
   "metadata": {},
   "outputs": [
    {
     "name": "stdout",
     "output_type": "stream",
     "text": [
      "Las tres marcas con mayor número de autos financiados por Santander son:\n",
      "item_brand\n",
      "BMW       296\n",
      "TOYOTA    261\n",
      "NISSAN    228\n",
      "Name: count, dtype: int64\n"
     ]
    }
   ],
   "source": [
    "autos_santander = data[data['item_financed_by'] == 'Santander']\n",
    "\n",
    "autos_por_marca = autos_santander['item_brand'].value_counts()\n",
    "\n",
    "top_3_marcas = autos_por_marca.head(3)\n",
    "\n",
    "print(\"Las tres marcas con mayor número de autos financiados por Santander son:\")\n",
    "print(top_3_marcas)\n"
   ]
  },
  {
   "cell_type": "markdown",
   "metadata": {},
   "source": [
    "5. Agrupa las publicaciones por tipo de transmisión (`item_transmission`) y calcula la desviación estándar del precio (`item_price`) para cada tipo.  "
   ]
  },
  {
   "cell_type": "code",
   "execution_count": 24,
   "metadata": {},
   "outputs": [
    {
     "data": {
      "text/html": [
       "<div>\n",
       "<style scoped>\n",
       "    .dataframe tbody tr th:only-of-type {\n",
       "        vertical-align: middle;\n",
       "    }\n",
       "\n",
       "    .dataframe tbody tr th {\n",
       "        vertical-align: top;\n",
       "    }\n",
       "\n",
       "    .dataframe thead th {\n",
       "        text-align: right;\n",
       "    }\n",
       "</style>\n",
       "<table border=\"1\" class=\"dataframe\">\n",
       "  <thead>\n",
       "    <tr style=\"text-align: right;\">\n",
       "      <th></th>\n",
       "      <th>item_transmission</th>\n",
       "      <th>price_std_dev</th>\n",
       "    </tr>\n",
       "  </thead>\n",
       "  <tbody>\n",
       "    <tr>\n",
       "      <th>0</th>\n",
       "      <td>Automática</td>\n",
       "      <td>15332.729048</td>\n",
       "    </tr>\n",
       "    <tr>\n",
       "      <th>1</th>\n",
       "      <td>Automática - Secuencial</td>\n",
       "      <td>22678.641589</td>\n",
       "    </tr>\n",
       "    <tr>\n",
       "      <th>2</th>\n",
       "      <td>Mecánica</td>\n",
       "      <td>8137.122127</td>\n",
       "    </tr>\n",
       "  </tbody>\n",
       "</table>\n",
       "</div>"
      ],
      "text/plain": [
       "         item_transmission  price_std_dev\n",
       "0               Automática   15332.729048\n",
       "1  Automática - Secuencial   22678.641589\n",
       "2                 Mecánica    8137.122127"
      ]
     },
     "execution_count": 24,
     "metadata": {},
     "output_type": "execute_result"
    }
   ],
   "source": [
    "grouped_transmission = neoauto_data.groupby('item_transmission')\n",
    "\n",
    "transmission_price_std_detailed = grouped_transmission['item_price'].std()\n",
    "\n",
    "transmission_price_std_detailed_df = transmission_price_std_detailed.reset_index()\n",
    "transmission_price_std_detailed_df.rename(columns={'item_price': 'price_std_dev'}, inplace=True)\n",
    "\n",
    "transmission_price_std_detailed_df\n",
    "\n"
   ]
  },
  {
   "cell_type": "markdown",
   "metadata": {},
   "source": [
    "6. ¿Cuál es el kilometraje promedio de las publicaciones con el tag \"Premium\" y de las publicaciones con el tag \"Como nuevo\"?"
   ]
  },
  {
   "cell_type": "code",
   "execution_count": 42,
   "metadata": {},
   "outputs": [
    {
     "name": "stdout",
     "output_type": "stream",
     "text": [
      "El kilometraje promedio de las publicaciones con el tag 'Premium' es: 48400.24\n",
      "El kilometraje promedio de las publicaciones con el tag 'Como nuevo' es: 35963.48\n"
     ]
    }
   ],
   "source": [
    "km_premium = data[data['item_tag'].str.contains('Premium', na=False)]['item_km'].mean()\n",
    "\n",
    "km_como_nuevo = data[data['item_tag'].str.contains('Como nuevo', na=False)]['item_km'].mean()\n",
    "\n",
    "print(f\"El kilometraje promedio de las publicaciones con el tag 'Premium' es: {km_premium:.2f}\")\n",
    "print(f\"El kilometraje promedio de las publicaciones con el tag 'Como nuevo' es: {km_como_nuevo:.2f}\")\n",
    "\n"
   ]
  },
  {
   "cell_type": "markdown",
   "metadata": {},
   "source": [
    "7. ¿Cuáles son las marcas de vehículas para los que todos sus modelos fabricados en los últimos 5 años tienen al menos 5 publicaciones cada una?"
   ]
  },
  {
   "cell_type": "code",
   "execution_count": 54,
   "metadata": {},
   "outputs": [
    {
     "name": "stdout",
     "output_type": "stream",
     "text": [
      "Marcas que cumplen con el criterio: ['BMW', 'FORD', 'HYUNDAI', 'KIA', 'MAZDA', 'NISSAN', 'TOYOTA', 'VOLKSWAGEN']\n"
     ]
    }
   ],
   "source": [
    "from datetime import datetime\n",
    "año_actual = datetime.now().year\n",
    "vehiculos_recientes = data[data['item_year'] >= (año_actual - 5)]\n",
    "publicaciones_por_modelo = vehiculos_recientes.groupby(['item_brand', 'item_name']).size().reset_index(name='conteo')\n",
    "modelos_validos[modelos_validos['item_brand'].isin(marcas_cumplen)]\n",
    "marcas_validas = modelos_validos.groupby('item_brand')['item_name'].nunique() == modelos_validos.groupby('item_brand')['item_name'].size()\n",
    "marcas_cumplen = marcas_validas[marcas_validas & (modelos_validos.groupby('item_brand')['item_name'].nunique() >= 3)].index.tolist()\n",
    "print(f\"Marcas que cumplen con el criterio: {marcas_cumplen}\")\n",
    "\n",
    "\n",
    "\n",
    "\n"
   ]
  },
  {
   "cell_type": "markdown",
   "metadata": {},
   "source": [
    "## **Evolución económica internacional**"
   ]
  },
  {
   "cell_type": "markdown",
   "metadata": {},
   "source": [
    "Importa el conjunto de datos de la hoja \"Data\" del archivo `pwt1001.xlsx`. El diccionario de variables está disponible en la hoja \"Legend\" del archivo Excel.\n",
    "    "
   ]
  },
  {
   "cell_type": "code",
   "execution_count": 9,
   "metadata": {},
   "outputs": [],
   "source": [
    "import pandas as pd\n"
   ]
  },
  {
   "cell_type": "code",
   "execution_count": 10,
   "metadata": {},
   "outputs": [
    {
     "data": {
      "text/html": [
       "<div>\n",
       "<style scoped>\n",
       "    .dataframe tbody tr th:only-of-type {\n",
       "        vertical-align: middle;\n",
       "    }\n",
       "\n",
       "    .dataframe tbody tr th {\n",
       "        vertical-align: top;\n",
       "    }\n",
       "\n",
       "    .dataframe thead th {\n",
       "        text-align: right;\n",
       "    }\n",
       "</style>\n",
       "<table border=\"1\" class=\"dataframe\">\n",
       "  <thead>\n",
       "    <tr style=\"text-align: right;\">\n",
       "      <th></th>\n",
       "      <th>countrycode</th>\n",
       "      <th>country</th>\n",
       "      <th>currency_unit</th>\n",
       "      <th>year</th>\n",
       "      <th>rgdpe</th>\n",
       "      <th>rgdpo</th>\n",
       "      <th>pop</th>\n",
       "      <th>emp</th>\n",
       "      <th>avh</th>\n",
       "      <th>hc</th>\n",
       "      <th>...</th>\n",
       "      <th>csh_x</th>\n",
       "      <th>csh_m</th>\n",
       "      <th>csh_r</th>\n",
       "      <th>pl_c</th>\n",
       "      <th>pl_i</th>\n",
       "      <th>pl_g</th>\n",
       "      <th>pl_x</th>\n",
       "      <th>pl_m</th>\n",
       "      <th>pl_n</th>\n",
       "      <th>pl_k</th>\n",
       "    </tr>\n",
       "  </thead>\n",
       "  <tbody>\n",
       "    <tr>\n",
       "      <th>0</th>\n",
       "      <td>ABW</td>\n",
       "      <td>Aruba</td>\n",
       "      <td>Aruban Guilder</td>\n",
       "      <td>1950</td>\n",
       "      <td>NaN</td>\n",
       "      <td>NaN</td>\n",
       "      <td>NaN</td>\n",
       "      <td>NaN</td>\n",
       "      <td>NaN</td>\n",
       "      <td>NaN</td>\n",
       "      <td>...</td>\n",
       "      <td>NaN</td>\n",
       "      <td>NaN</td>\n",
       "      <td>NaN</td>\n",
       "      <td>NaN</td>\n",
       "      <td>NaN</td>\n",
       "      <td>NaN</td>\n",
       "      <td>NaN</td>\n",
       "      <td>NaN</td>\n",
       "      <td>NaN</td>\n",
       "      <td>NaN</td>\n",
       "    </tr>\n",
       "    <tr>\n",
       "      <th>1</th>\n",
       "      <td>ABW</td>\n",
       "      <td>Aruba</td>\n",
       "      <td>Aruban Guilder</td>\n",
       "      <td>1951</td>\n",
       "      <td>NaN</td>\n",
       "      <td>NaN</td>\n",
       "      <td>NaN</td>\n",
       "      <td>NaN</td>\n",
       "      <td>NaN</td>\n",
       "      <td>NaN</td>\n",
       "      <td>...</td>\n",
       "      <td>NaN</td>\n",
       "      <td>NaN</td>\n",
       "      <td>NaN</td>\n",
       "      <td>NaN</td>\n",
       "      <td>NaN</td>\n",
       "      <td>NaN</td>\n",
       "      <td>NaN</td>\n",
       "      <td>NaN</td>\n",
       "      <td>NaN</td>\n",
       "      <td>NaN</td>\n",
       "    </tr>\n",
       "    <tr>\n",
       "      <th>2</th>\n",
       "      <td>ABW</td>\n",
       "      <td>Aruba</td>\n",
       "      <td>Aruban Guilder</td>\n",
       "      <td>1952</td>\n",
       "      <td>NaN</td>\n",
       "      <td>NaN</td>\n",
       "      <td>NaN</td>\n",
       "      <td>NaN</td>\n",
       "      <td>NaN</td>\n",
       "      <td>NaN</td>\n",
       "      <td>...</td>\n",
       "      <td>NaN</td>\n",
       "      <td>NaN</td>\n",
       "      <td>NaN</td>\n",
       "      <td>NaN</td>\n",
       "      <td>NaN</td>\n",
       "      <td>NaN</td>\n",
       "      <td>NaN</td>\n",
       "      <td>NaN</td>\n",
       "      <td>NaN</td>\n",
       "      <td>NaN</td>\n",
       "    </tr>\n",
       "    <tr>\n",
       "      <th>3</th>\n",
       "      <td>ABW</td>\n",
       "      <td>Aruba</td>\n",
       "      <td>Aruban Guilder</td>\n",
       "      <td>1953</td>\n",
       "      <td>NaN</td>\n",
       "      <td>NaN</td>\n",
       "      <td>NaN</td>\n",
       "      <td>NaN</td>\n",
       "      <td>NaN</td>\n",
       "      <td>NaN</td>\n",
       "      <td>...</td>\n",
       "      <td>NaN</td>\n",
       "      <td>NaN</td>\n",
       "      <td>NaN</td>\n",
       "      <td>NaN</td>\n",
       "      <td>NaN</td>\n",
       "      <td>NaN</td>\n",
       "      <td>NaN</td>\n",
       "      <td>NaN</td>\n",
       "      <td>NaN</td>\n",
       "      <td>NaN</td>\n",
       "    </tr>\n",
       "    <tr>\n",
       "      <th>4</th>\n",
       "      <td>ABW</td>\n",
       "      <td>Aruba</td>\n",
       "      <td>Aruban Guilder</td>\n",
       "      <td>1954</td>\n",
       "      <td>NaN</td>\n",
       "      <td>NaN</td>\n",
       "      <td>NaN</td>\n",
       "      <td>NaN</td>\n",
       "      <td>NaN</td>\n",
       "      <td>NaN</td>\n",
       "      <td>...</td>\n",
       "      <td>NaN</td>\n",
       "      <td>NaN</td>\n",
       "      <td>NaN</td>\n",
       "      <td>NaN</td>\n",
       "      <td>NaN</td>\n",
       "      <td>NaN</td>\n",
       "      <td>NaN</td>\n",
       "      <td>NaN</td>\n",
       "      <td>NaN</td>\n",
       "      <td>NaN</td>\n",
       "    </tr>\n",
       "    <tr>\n",
       "      <th>...</th>\n",
       "      <td>...</td>\n",
       "      <td>...</td>\n",
       "      <td>...</td>\n",
       "      <td>...</td>\n",
       "      <td>...</td>\n",
       "      <td>...</td>\n",
       "      <td>...</td>\n",
       "      <td>...</td>\n",
       "      <td>...</td>\n",
       "      <td>...</td>\n",
       "      <td>...</td>\n",
       "      <td>...</td>\n",
       "      <td>...</td>\n",
       "      <td>...</td>\n",
       "      <td>...</td>\n",
       "      <td>...</td>\n",
       "      <td>...</td>\n",
       "      <td>...</td>\n",
       "      <td>...</td>\n",
       "      <td>...</td>\n",
       "      <td>...</td>\n",
       "    </tr>\n",
       "    <tr>\n",
       "      <th>12805</th>\n",
       "      <td>ZWE</td>\n",
       "      <td>Zimbabwe</td>\n",
       "      <td>US Dollar</td>\n",
       "      <td>2015</td>\n",
       "      <td>40141.617188</td>\n",
       "      <td>39798.644531</td>\n",
       "      <td>13.814629</td>\n",
       "      <td>6.393752</td>\n",
       "      <td>NaN</td>\n",
       "      <td>2.584653</td>\n",
       "      <td>...</td>\n",
       "      <td>0.140172</td>\n",
       "      <td>-0.287693</td>\n",
       "      <td>-0.051930</td>\n",
       "      <td>0.479228</td>\n",
       "      <td>0.651287</td>\n",
       "      <td>0.541446</td>\n",
       "      <td>0.616689</td>\n",
       "      <td>0.533235</td>\n",
       "      <td>0.425715</td>\n",
       "      <td>1.778124</td>\n",
       "    </tr>\n",
       "    <tr>\n",
       "      <th>12806</th>\n",
       "      <td>ZWE</td>\n",
       "      <td>Zimbabwe</td>\n",
       "      <td>US Dollar</td>\n",
       "      <td>2016</td>\n",
       "      <td>41875.203125</td>\n",
       "      <td>40963.191406</td>\n",
       "      <td>14.030331</td>\n",
       "      <td>6.504374</td>\n",
       "      <td>NaN</td>\n",
       "      <td>2.616257</td>\n",
       "      <td>...</td>\n",
       "      <td>0.131920</td>\n",
       "      <td>-0.251232</td>\n",
       "      <td>-0.016258</td>\n",
       "      <td>0.470640</td>\n",
       "      <td>0.651027</td>\n",
       "      <td>0.539631</td>\n",
       "      <td>0.619789</td>\n",
       "      <td>0.519718</td>\n",
       "      <td>0.419446</td>\n",
       "      <td>1.728804</td>\n",
       "    </tr>\n",
       "    <tr>\n",
       "      <th>12807</th>\n",
       "      <td>ZWE</td>\n",
       "      <td>Zimbabwe</td>\n",
       "      <td>US Dollar</td>\n",
       "      <td>2017</td>\n",
       "      <td>44672.175781</td>\n",
       "      <td>44316.742188</td>\n",
       "      <td>14.236595</td>\n",
       "      <td>6.611773</td>\n",
       "      <td>NaN</td>\n",
       "      <td>2.648248</td>\n",
       "      <td>...</td>\n",
       "      <td>0.126722</td>\n",
       "      <td>-0.202827</td>\n",
       "      <td>-0.039897</td>\n",
       "      <td>0.473560</td>\n",
       "      <td>0.639560</td>\n",
       "      <td>0.519956</td>\n",
       "      <td>0.619739</td>\n",
       "      <td>0.552042</td>\n",
       "      <td>0.418681</td>\n",
       "      <td>1.756007</td>\n",
       "    </tr>\n",
       "    <tr>\n",
       "      <th>12808</th>\n",
       "      <td>ZWE</td>\n",
       "      <td>Zimbabwe</td>\n",
       "      <td>US Dollar</td>\n",
       "      <td>2018</td>\n",
       "      <td>44325.109375</td>\n",
       "      <td>43420.898438</td>\n",
       "      <td>14.438802</td>\n",
       "      <td>6.714952</td>\n",
       "      <td>NaN</td>\n",
       "      <td>2.680630</td>\n",
       "      <td>...</td>\n",
       "      <td>0.144485</td>\n",
       "      <td>-0.263658</td>\n",
       "      <td>-0.020791</td>\n",
       "      <td>0.543757</td>\n",
       "      <td>0.655473</td>\n",
       "      <td>0.529867</td>\n",
       "      <td>0.641361</td>\n",
       "      <td>0.561526</td>\n",
       "      <td>0.426527</td>\n",
       "      <td>1.830088</td>\n",
       "    </tr>\n",
       "    <tr>\n",
       "      <th>12809</th>\n",
       "      <td>ZWE</td>\n",
       "      <td>Zimbabwe</td>\n",
       "      <td>US Dollar</td>\n",
       "      <td>2019</td>\n",
       "      <td>42296.062500</td>\n",
       "      <td>40826.570312</td>\n",
       "      <td>14.645468</td>\n",
       "      <td>6.831017</td>\n",
       "      <td>NaN</td>\n",
       "      <td>2.713408</td>\n",
       "      <td>...</td>\n",
       "      <td>0.213562</td>\n",
       "      <td>-0.270959</td>\n",
       "      <td>-0.089798</td>\n",
       "      <td>0.494755</td>\n",
       "      <td>0.652439</td>\n",
       "      <td>0.500927</td>\n",
       "      <td>0.487763</td>\n",
       "      <td>0.430082</td>\n",
       "      <td>0.419883</td>\n",
       "      <td>1.580885</td>\n",
       "    </tr>\n",
       "  </tbody>\n",
       "</table>\n",
       "<p>12810 rows × 52 columns</p>\n",
       "</div>"
      ],
      "text/plain": [
       "      countrycode   country   currency_unit  year         rgdpe         rgdpo  \\\n",
       "0             ABW     Aruba  Aruban Guilder  1950           NaN           NaN   \n",
       "1             ABW     Aruba  Aruban Guilder  1951           NaN           NaN   \n",
       "2             ABW     Aruba  Aruban Guilder  1952           NaN           NaN   \n",
       "3             ABW     Aruba  Aruban Guilder  1953           NaN           NaN   \n",
       "4             ABW     Aruba  Aruban Guilder  1954           NaN           NaN   \n",
       "...           ...       ...             ...   ...           ...           ...   \n",
       "12805         ZWE  Zimbabwe       US Dollar  2015  40141.617188  39798.644531   \n",
       "12806         ZWE  Zimbabwe       US Dollar  2016  41875.203125  40963.191406   \n",
       "12807         ZWE  Zimbabwe       US Dollar  2017  44672.175781  44316.742188   \n",
       "12808         ZWE  Zimbabwe       US Dollar  2018  44325.109375  43420.898438   \n",
       "12809         ZWE  Zimbabwe       US Dollar  2019  42296.062500  40826.570312   \n",
       "\n",
       "             pop       emp  avh        hc  ...     csh_x     csh_m     csh_r  \\\n",
       "0            NaN       NaN  NaN       NaN  ...       NaN       NaN       NaN   \n",
       "1            NaN       NaN  NaN       NaN  ...       NaN       NaN       NaN   \n",
       "2            NaN       NaN  NaN       NaN  ...       NaN       NaN       NaN   \n",
       "3            NaN       NaN  NaN       NaN  ...       NaN       NaN       NaN   \n",
       "4            NaN       NaN  NaN       NaN  ...       NaN       NaN       NaN   \n",
       "...          ...       ...  ...       ...  ...       ...       ...       ...   \n",
       "12805  13.814629  6.393752  NaN  2.584653  ...  0.140172 -0.287693 -0.051930   \n",
       "12806  14.030331  6.504374  NaN  2.616257  ...  0.131920 -0.251232 -0.016258   \n",
       "12807  14.236595  6.611773  NaN  2.648248  ...  0.126722 -0.202827 -0.039897   \n",
       "12808  14.438802  6.714952  NaN  2.680630  ...  0.144485 -0.263658 -0.020791   \n",
       "12809  14.645468  6.831017  NaN  2.713408  ...  0.213562 -0.270959 -0.089798   \n",
       "\n",
       "           pl_c      pl_i      pl_g      pl_x      pl_m      pl_n      pl_k  \n",
       "0           NaN       NaN       NaN       NaN       NaN       NaN       NaN  \n",
       "1           NaN       NaN       NaN       NaN       NaN       NaN       NaN  \n",
       "2           NaN       NaN       NaN       NaN       NaN       NaN       NaN  \n",
       "3           NaN       NaN       NaN       NaN       NaN       NaN       NaN  \n",
       "4           NaN       NaN       NaN       NaN       NaN       NaN       NaN  \n",
       "...         ...       ...       ...       ...       ...       ...       ...  \n",
       "12805  0.479228  0.651287  0.541446  0.616689  0.533235  0.425715  1.778124  \n",
       "12806  0.470640  0.651027  0.539631  0.619789  0.519718  0.419446  1.728804  \n",
       "12807  0.473560  0.639560  0.519956  0.619739  0.552042  0.418681  1.756007  \n",
       "12808  0.543757  0.655473  0.529867  0.641361  0.561526  0.426527  1.830088  \n",
       "12809  0.494755  0.652439  0.500927  0.487763  0.430082  0.419883  1.580885  \n",
       "\n",
       "[12810 rows x 52 columns]"
      ]
     },
     "execution_count": 10,
     "metadata": {},
     "output_type": "execute_result"
    }
   ],
   "source": [
    "# Cargar la hoja \"Data\" del archivo pwt1001.xlsx\n",
    "ruta_archivo = \"pwt1001.xlsx\"  # Asegúrate de que esté en el mismo directorio\n",
    "hoja_datos = \"Data\"\n",
    "\n",
    "# Leer la hoja \"Data\"\n",
    "datos = pd.read_excel(ruta_archivo, sheet_name=hoja_datos)\n",
    "# Ver la data y abrir en Data Wrangler\n",
    "datos"
   ]
  },
  {
   "cell_type": "markdown",
   "metadata": {},
   "source": [
    "1. Calcule el PBI per cápita real ajustado por poder de paridad de compra (PPP). Use la variable de PBI que se calcula por gasto y la población. ¿Cuáles son los 10 países top?"
   ]
  },
  {
   "cell_type": "code",
   "execution_count": 11,
   "metadata": {},
   "outputs": [
    {
     "name": "stdout",
     "output_type": "stream",
     "text": [
      "Top 10 países por PBI per cápita ajustado por PPP:\n",
      "                  country  pbi_per_capita_ppp\n",
      "173  United Arab Emirates       135685.412228\n",
      "26      Brunei Darussalam        85153.100960\n",
      "133                 Qatar        77240.759701\n",
      "34         Cayman Islands        64819.047337\n",
      "92                 Kuwait        52150.640948\n",
      "100            Luxembourg        49328.308130\n",
      "40       China, Macao SAR        45158.441251\n",
      "19                Bermuda        44118.792348\n",
      "159           Switzerland        39528.128690\n",
      "175         United States        36517.219524\n"
     ]
    }
   ],
   "source": [
    "# Solución\n",
    "datos = pd.read_excel(ruta_archivo, sheet_name=hoja_datos)\n",
    "\n",
    "# Verificar que las columnas necesarias estén presentes\n",
    "if {'rgdpe', 'pop', 'country'}.issubset(datos.columns):\n",
    "    # Calcular PBI per cápita ajustado por PPP\n",
    "    datos['pbi_per_capita_ppp'] = datos['rgdpe'] / datos['pop']\n",
    "    \n",
    "    # Agrupar por país y calcular el promedio de PBI per cápita (en caso de varios años)\n",
    "    pbi_por_pais = datos.groupby('country', as_index=False)['pbi_per_capita_ppp'].mean()\n",
    "    \n",
    "    # Ordenar por PBI per cápita en orden descendente\n",
    "    top10_paises = pbi_por_pais.sort_values(by='pbi_per_capita_ppp', ascending=False).head(10)\n",
    "    \n",
    "    # Mostrar los 10 países principales\n",
    "    print(\"Top 10 países por PBI per cápita ajustado por PPP:\")\n",
    "    print(top10_paises)\n",
    "else:\n",
    "    print(\"No se encuentran las columnas necesarias ('rgdpe', 'pop', 'country') en los datos.\")"
   ]
  },
  {
   "cell_type": "markdown",
   "metadata": {},
   "source": [
    "2. Genera el ránking de los países con el mayor incremento del PBI per cápita real PPP entre los años 1990 y 2019. ¿Dónde se ubica Perú? Para los países que no tengan información para dichos años, puede utilizar datos provenientes de hasta dos años antes o después"
   ]
  },
  {
   "cell_type": "code",
   "execution_count": 12,
   "metadata": {},
   "outputs": [
    {
     "name": "stdout",
     "output_type": "stream",
     "text": [
      "Ranking de países con mayor incremento del PBI per cápita PPP (1990-2019):\n",
      "                country      pbi_1990       pbi_2019    incremento  ranking\n",
      "0      China, Macao SAR  27016.692600  107528.088227  80511.395627        1\n",
      "1                 Qatar  26066.295030  106465.927895  80399.632864        2\n",
      "2               Ireland  19040.395941   92959.449679  73919.053738        3\n",
      "3             Singapore  21257.105474   87837.536901  66580.431427        4\n",
      "4            Luxembourg  45881.393129  111780.927063  65899.533934        5\n",
      "5               Bermuda  31750.475291   79662.836694  47912.361404        6\n",
      "6                Norway  28383.595821   62803.079219  34419.483398        7\n",
      "7                Kuwait  23515.121740   56835.097537  33319.975797        8\n",
      "8                 Malta  14780.636963   48026.180186  33245.543223        9\n",
      "9  China, Hong Kong SAR  26962.554047   59869.303686  32906.749639       10\n",
      "\n",
      "Posición de Perú:\n",
      "   country    pbi_1990     pbi_2019  incremento  ranking\n",
      "82    Peru  3907.31775  12315.84528  8408.52753       83\n"
     ]
    }
   ],
   "source": [
    "# Solución\n",
    "\n",
    "datos = pd.read_excel(ruta_archivo, sheet_name=hoja_datos)\n",
    "\n",
    "# Verificar que las columnas necesarias están presentes\n",
    "if {'rgdpe', 'pop', 'year', 'country'}.issubset(datos.columns):\n",
    "    # Calcular el PBI per cápita ajustado por PPP\n",
    "    datos['pbi_per_capita_ppp'] = datos['rgdpe'] / datos['pop']\n",
    "    \n",
    "    # Filtrar los datos para los años 1990 y 2019\n",
    "    datos_1990 = datos[(datos['year'] >= 1988) & (datos['year'] <= 1992)].groupby('country')['pbi_per_capita_ppp'].mean().reset_index()\n",
    "    datos_2019 = datos[(datos['year'] >= 2017) & (datos['year'] <= 2021)].groupby('country')['pbi_per_capita_ppp'].mean().reset_index()\n",
    "    \n",
    "    # Renombrar columnas para identificar años\n",
    "    datos_1990.rename(columns={'pbi_per_capita_ppp': 'pbi_1990'}, inplace=True)\n",
    "    datos_2019.rename(columns={'pbi_per_capita_ppp': 'pbi_2019'}, inplace=True)\n",
    "    \n",
    "    # Combinar los datos de 1990 y 2019\n",
    "    crecimiento = pd.merge(datos_1990, datos_2019, on='country', how='inner')\n",
    "    \n",
    "    # Calcular el incremento del PBI per cápita PPP\n",
    "    crecimiento['incremento'] = crecimiento['pbi_2019'] - crecimiento['pbi_1990']\n",
    "    \n",
    "    # Ordenar por incremento descendente\n",
    "    ranking = crecimiento.sort_values(by='incremento', ascending=False).reset_index(drop=True)\n",
    "    \n",
    "    # Agregar el ranking\n",
    "    ranking['ranking'] = ranking.index + 1\n",
    "    \n",
    "    # Verificar la posición de Perú\n",
    "    posicion_peru = ranking[ranking['country'] == 'Peru']\n",
    "    \n",
    "    # Mostrar el ranking y la posición de Perú\n",
    "    print(\"Ranking de países con mayor incremento del PBI per cápita PPP (1990-2019):\")\n",
    "    print(ranking.head(10))  # Top 10 países\n",
    "    print(\"\\nPosición de Perú:\")\n",
    "    print(posicion_peru if not posicion_peru.empty else \"Perú no se encuentra en los datos.\")\n",
    "else:\n",
    "    print(\"No se encuentran las columnas necesarias ('rgdpe', 'pop', 'year', 'country') en los datos.\")"
   ]
  },
  {
   "cell_type": "markdown",
   "metadata": {},
   "source": [
    "3. Para el periodo 2010-2019, calcule el promedio del índice del capital humano. ¿Qué relación existe entre esta variable y el PBI per cápita real PPP calculado previamente? ¿y el número de horas laboradas al año por los trabajadores?"
   ]
  },
  {
   "cell_type": "code",
   "execution_count": 13,
   "metadata": {},
   "outputs": [],
   "source": [
    "import matplotlib.pyplot as plt\n",
    "import seaborn as sns"
   ]
  },
  {
   "cell_type": "code",
   "execution_count": 14,
   "metadata": {},
   "outputs": [
    {
     "name": "stdout",
     "output_type": "stream",
     "text": [
      "Relación entre el índice de capital humano y el PBI per cápita real PPP:\n",
      "               country  promedio_hc  promedio_avh  promedio_pbi_per_capita\n",
      "0              Albania     2.934304           NaN             11029.751620\n",
      "1              Algeria     2.207947           NaN             12797.237930\n",
      "2               Angola     1.449344           NaN              7627.644937\n",
      "3             Anguilla          NaN           NaN             27167.015652\n",
      "4  Antigua and Barbuda          NaN           NaN             20046.143125\n",
      "5            Argentina     2.961662   1693.416337             21492.060853\n",
      "6              Armenia     3.123577           NaN             10879.322226\n",
      "7                Aruba          NaN           NaN             38145.486904\n",
      "8            Australia     3.489004   1746.412122             49392.158049\n",
      "9              Austria     3.331753   1629.475719             51477.323055\n"
     ]
    },
    {
     "data": {
      "image/png": "[encoded data removed]",
      "text/plain": [
       "<Figure size 1000x600 with 1 Axes>"
      ]
     },
     "metadata": {},
     "output_type": "display_data"
    },
    {
     "data": {
      "image/png": "[encoded data removed]",
      "text/plain": [
       "<Figure size 1000x600 with 1 Axes>"
      ]
     },
     "metadata": {},
     "output_type": "display_data"
    }
   ],
   "source": [
    "# Solución\n",
    "\n",
    "datos = pd.read_excel(ruta_archivo, sheet_name=hoja_datos)\n",
    "\n",
    "# Verificar que las columnas necesarias estén presentes\n",
    "if {'rgdpe', 'pop', 'year', 'country', 'hc', 'avh'}.issubset(datos.columns):\n",
    "    # Calcular el PBI per cápita ajustado por PPP\n",
    "    datos['pbi_per_capita_ppp'] = datos['rgdpe'] / datos['pop']\n",
    "    \n",
    "    # Filtrar los datos para el periodo 2010-2019\n",
    "    datos_periodo = datos[(datos['year'] >= 2010) & (datos['year'] <= 2019)]\n",
    "    \n",
    "    # Calcular el promedio del índice de capital humano y de horas trabajadas por país\n",
    "    promedio_hc = datos_periodo.groupby('country')['hc'].mean().reset_index(name='promedio_hc')\n",
    "    promedio_avh = datos_periodo.groupby('country')['avh'].mean().reset_index(name='promedio_avh')\n",
    "    promedio_pbi = datos_periodo.groupby('country')['pbi_per_capita_ppp'].mean().reset_index(name='promedio_pbi_per_capita')\n",
    "    \n",
    "    # Combinar los resultados en un único DataFrame\n",
    "    resultados = promedio_hc.merge(promedio_avh, on='country').merge(promedio_pbi, on='country')\n",
    "    \n",
    "    # Explorar la relación entre el capital humano y el PBI per cápita\n",
    "    print(\"Relación entre el índice de capital humano y el PBI per cápita real PPP:\")\n",
    "    print(resultados.head(10))  # Mostrar los primeros 10 resultados\n",
    "\n",
    "        # Graficar la relación entre capital humano y PBI per cápita\n",
    "    plt.figure(figsize=(10, 6))\n",
    "    sns.scatterplot(data=resultados, x='promedio_hc', y='promedio_pbi_per_capita', hue='country')\n",
    "    plt.title('Relación entre Capital Humano y PBI per cápita (2010-2019)', fontsize=14)\n",
    "    plt.xlabel('Promedio del Índice de Capital Humano (hc)', fontsize=12)\n",
    "    plt.ylabel('Promedio del PBI per cápita real PPP', fontsize=12)\n",
    "    plt.legend([], [], frameon=False)  # Quitar la leyenda\n",
    "    plt.grid(True)\n",
    "    plt.show()\n",
    "    \n",
    "    # Graficar la relación entre horas trabajadas y PBI per cápita\n",
    "    plt.figure(figsize=(10, 6))\n",
    "    sns.scatterplot(data=resultados, x='promedio_avh', y='promedio_pbi_per_capita', hue='country')\n",
    "    plt.title('Relación entre Horas Trabajadas y PBI per cápita (2010-2019)', fontsize=14)\n",
    "    plt.xlabel('Promedio de Horas Trabajadas por Año (avh)', fontsize=12)\n",
    "    plt.ylabel('Promedio del PBI per cápita real PPP', fontsize=12)\n",
    "    plt.legend([], [], frameon=False)  # Quitar la leyenda\n",
    "    plt.grid(True)\n",
    "    plt.show()\n",
    "else:\n",
    "    print(\"No se encuentran las columnas necesarias ('rgdpe', 'pop', 'year', 'country', 'hc', 'avh') en los datos.\")"
   ]
  },
  {
   "cell_type": "markdown",
   "metadata": {},
   "source": [
    "4. A partir de la variable del precio de los hogares, calcula los países y los años en los cuales se registró la mayor inflación anual para todo el periodo de tiempo disponible en la base de datos"
   ]
  },
  {
   "cell_type": "code",
   "execution_count": 23,
   "metadata": {},
   "outputs": [
    {
     "name": "stdout",
     "output_type": "stream",
     "text": [
      "País y año con mayor inflación:\n",
      "País: Venezuela (Bolivarian Republic of), Año: 2017, Inflación: 355.75%\n"
     ]
    },
    {
     "name": "stderr",
     "output_type": "stream",
     "text": [
      "C:\\Users\\jmoli\\AppData\\Local\\Temp\\ipykernel_71108\\1710627984.py:5: FutureWarning: The default fill_method='ffill' in SeriesGroupBy.pct_change is deprecated and will be removed in a future version. Either fill in any non-leading NA values prior to calling pct_change or specify 'fill_method=None' to not fill NA values.\n",
      "  datos['inflacion'] = datos.groupby('country')['pl_c'].pct_change() * 100\n"
     ]
    }
   ],
   "source": [
    "# Solución\n",
    "\n",
    "if 'pl_c' in datos.columns:\n",
    "    # Calcular la inflación anual (cambio porcentual de pl_c)\n",
    "    datos['inflacion'] = datos.groupby('country')['pl_c'].pct_change() * 100\n",
    "\n",
    "    # Identificar el país y año con la mayor inflación\n",
    "    max_inflacion = datos.loc[datos['inflacion'].idxmax()]\n",
    "    \n",
    "    print(\"País y año con mayor inflación:\")\n",
    "    print(f\"País: {max_inflacion['country']}, Año: {max_inflacion['year']}, Inflación: {max_inflacion['inflacion']:.2f}%\")\n",
    "else:\n",
    "    print(\"La variable 'pl_c' no está disponible en los datos.\")"
   ]
  },
  {
   "cell_type": "markdown",
   "metadata": {},
   "source": [
    "5. ¿Cuáles son los países con la mayor cantidad de missing values en la variable de productividad total de factores a precios corrientes?"
   ]
  },
  {
   "cell_type": "code",
   "execution_count": 24,
   "metadata": {},
   "outputs": [
    {
     "name": "stdout",
     "output_type": "stream",
     "text": [
      "Países con mayor cantidad de missing values en 'ctfp':\n",
      "                            country  missing_count\n",
      "0                           Albania             70\n",
      "168                    Turkmenistan             70\n",
      "148       Sint Maarten (Dutch part)             70\n",
      "71                          Grenada             70\n",
      "69                            Ghana             70\n",
      "67                          Georgia             70\n",
      "66                           Gambia             70\n",
      "154  St. Vincent and the Grenadines             70\n",
      "126                        Pakistan             70\n",
      "61                         Ethiopia             70\n"
     ]
    }
   ],
   "source": [
    "# Solución\n",
    "\n",
    "if 'ctfp' in datos.columns:\n",
    "    # Contar los missing values por país\n",
    "    missing_ctfp = datos[datos['ctfp'].isna()].groupby('country').size().reset_index(name='missing_count')\n",
    "    \n",
    "    # Ordenar por cantidad de missing values\n",
    "    top_missing_ctfp = missing_ctfp.sort_values(by='missing_count', ascending=False).head(10)\n",
    "    \n",
    "    print(\"Países con mayor cantidad de missing values en 'ctfp':\")\n",
    "    print(top_missing_ctfp)\n",
    "else:\n",
    "    print(\"La variable 'ctfp' no está disponible en los datos.\")"
   ]
  },
  {
   "cell_type": "markdown",
   "metadata": {},
   "source": [
    "6.  Agrupa los datos por país y calcula el promedio de las horas trabajadas anuales (avh) y de la educación promedio (hc) para el periodo 2000-2020."
   ]
  },
  {
   "cell_type": "code",
   "execution_count": 25,
   "metadata": {},
   "outputs": [
    {
     "name": "stdout",
     "output_type": "stream",
     "text": [
      "Promedio de horas trabajadas y educación promedio (2000-2020):\n",
      "               country  promedio_avh  promedio_hc\n",
      "0              Albania           NaN     2.895579\n",
      "1              Algeria           NaN     2.080837\n",
      "2               Angola           NaN     1.399746\n",
      "3             Anguilla           NaN          NaN\n",
      "4  Antigua and Barbuda           NaN          NaN\n",
      "5            Argentina   1732.549733     2.859469\n",
      "6              Armenia           NaN     3.112124\n",
      "7                Aruba           NaN          NaN\n",
      "8            Australia   1772.472936     3.489001\n",
      "9              Austria   1690.755471     3.261355\n"
     ]
    }
   ],
   "source": [
    "# Solución\n",
    "\n",
    "if {'avh', 'hc'}.issubset(datos.columns):\n",
    "    # Filtrar los datos para el periodo 2000-2020\n",
    "    datos_periodo = datos[(datos['year'] >= 2000) & (datos['year'] <= 2020)]\n",
    "    \n",
    "    # Calcular los promedios por país\n",
    "    promedios = datos_periodo.groupby('country')[['avh', 'hc']].mean().reset_index()\n",
    "    promedios.rename(columns={'avh': 'promedio_avh', 'hc': 'promedio_hc'}, inplace=True)\n",
    "    \n",
    "    print(\"Promedio de horas trabajadas y educación promedio (2000-2020):\")\n",
    "    print(promedios.head(10))  # Mostrar los primeros 10 resultados\n",
    "else:\n",
    "    print(\"Las variables 'avh' o 'hc' no están disponibles en los datos.\")"
   ]
  },
  {
   "cell_type": "markdown",
   "metadata": {},
   "source": [
    "7.  Genere una variable que ordene a los países según el porcetaje de formación brutal de capital del 2019. Luego, estable diez grupos a manera de deciles. ¿En qué decil se ubica Péru? Vuelva a calcular usando la información de 1990. ¿El Perú se mantiene en el mismo décil o cambia?"
   ]
  },
  {
   "cell_type": "code",
   "execution_count": 26,
   "metadata": {},
   "outputs": [
    {
     "name": "stdout",
     "output_type": "stream",
     "text": [
      "Distribución en deciles para 2019:\n",
      "                     country     csh_i  decile_2019\n",
      "3359                Djibouti  0.616744           10\n",
      "5599                 Ireland  0.569862           10\n",
      "9799                   Qatar  0.525012           10\n",
      "7629                Maldives  0.468125           10\n",
      "2379                   China  0.454168           10\n",
      "559      Antigua and Barbuda  0.384608           10\n",
      "10639               Suriname  0.377080           10\n",
      "9029                   Nepal  0.370384           10\n",
      "6509   Saint Kitts and Nevis  0.367369           10\n",
      "909                  Belgium  0.360464           10\n",
      "\n",
      "Distribución en deciles para 1990:\n",
      "                  country     csh_i  decile_1990\n",
      "8300           Montserrat  0.909839           10\n",
      "2840           Cabo Verde  0.533093           10\n",
      "180              Anguilla  0.515634           10\n",
      "10260           Singapore  0.450705           10\n",
      "11030          Seychelles  0.440294           10\n",
      "6200           Kazakhstan  0.428977           10\n",
      "9910   Russian Federation  0.417305           10\n",
      "9700   State of Palestine  0.409889           10\n",
      "2210          Switzerland  0.405619           10\n",
      "6550    Republic of Korea  0.405535           10\n",
      "\n",
      "Posición de Perú en 2019:\n",
      "     country     csh_i  decile_2019\n",
      "9379    Peru  0.205378            5\n",
      "\n",
      "Posición de Perú en 1990:\n",
      "     country     csh_i  decile_1990\n",
      "9350    Peru  0.138082            4\n"
     ]
    }
   ],
   "source": [
    "# Solución\n",
    "if {'year', 'country', 'csh_i'}.issubset(datos.columns):\n",
    "    # Filtrar los datos para 2019\n",
    "    datos_2019 = datos[datos['year'] == 2019][['country', 'csh_i']].dropna()\n",
    "    datos_2019['decile_2019'] = pd.qcut(datos_2019['csh_i'], q=10, labels=False) + 1\n",
    "\n",
    "    # Filtrar los datos para 1990\n",
    "    datos_1990 = datos[datos['year'] == 1990][['country', 'csh_i']].dropna()\n",
    "    datos_1990['decile_1990'] = pd.qcut(datos_1990['csh_i'], q=10, labels=False) + 1\n",
    "\n",
    "    # Verificar la posición de Perú en ambos años\n",
    "    posicion_peru_2019 = datos_2019[datos_2019['country'] == 'Peru']\n",
    "    posicion_peru_1990 = datos_1990[datos_1990['country'] == 'Peru']\n",
    "\n",
    "    # Mostrar resultados\n",
    "    print(\"Distribución en deciles para 2019:\")\n",
    "    print(datos_2019.sort_values(by='csh_i', ascending=False).head(10))  # Top 10 países\n",
    "    print(\"\\nDistribución en deciles para 1990:\")\n",
    "    print(datos_1990.sort_values(by='csh_i', ascending=False).head(10))  # Top 10 países\n",
    "\n",
    "    print(\"\\nPosición de Perú en 2019:\")\n",
    "    print(posicion_peru_2019 if not posicion_peru_2019.empty else \"Perú no tiene datos para 2019.\")\n",
    "\n",
    "    print(\"\\nPosición de Perú en 1990:\")\n",
    "    print(posicion_peru_1990 if not posicion_peru_1990.empty else \"Perú no tiene datos para 1990.\")\n",
    "else:\n",
    "    print(\"Las columnas necesarias ('year', 'country', 'csh_i') no están disponibles en los datos.\")"
   ]
  },
  {
   "cell_type": "markdown",
   "metadata": {},
   "source": [
    "## **Transacciones Financieras**"
   ]
  },
  {
   "cell_type": "markdown",
   "metadata": {},
   "source": [
    "Importa el conjunto de datos `base_financiera.csv`\n",
    "    "
   ]
  },
  {
   "cell_type": "code",
   "execution_count": 2,
   "metadata": {},
   "outputs": [
    {
     "data": {
      "text/html": [
       "<div>\n",
       "<style scoped>\n",
       "    .dataframe tbody tr th:only-of-type {\n",
       "        vertical-align: middle;\n",
       "    }\n",
       "\n",
       "    .dataframe tbody tr th {\n",
       "        vertical-align: top;\n",
       "    }\n",
       "\n",
       "    .dataframe thead th {\n",
       "        text-align: right;\n",
       "    }\n",
       "</style>\n",
       "<table border=\"1\" class=\"dataframe\">\n",
       "  <thead>\n",
       "    <tr style=\"text-align: right;\">\n",
       "      <th></th>\n",
       "      <th>Transaction_ID</th>\n",
       "      <th>Customer_ID</th>\n",
       "      <th>Date</th>\n",
       "      <th>Amount</th>\n",
       "      <th>Transaction_Type</th>\n",
       "      <th>Region</th>\n",
       "    </tr>\n",
       "  </thead>\n",
       "  <tbody>\n",
       "    <tr>\n",
       "      <th>0</th>\n",
       "      <td>1001</td>\n",
       "      <td>C190</td>\n",
       "      <td>2023-01-01</td>\n",
       "      <td>798.68</td>\n",
       "      <td>Credit</td>\n",
       "      <td>North</td>\n",
       "    </tr>\n",
       "    <tr>\n",
       "      <th>1</th>\n",
       "      <td>1002</td>\n",
       "      <td>C016</td>\n",
       "      <td>2023-01-02</td>\n",
       "      <td>906.97</td>\n",
       "      <td>Debit</td>\n",
       "      <td>South</td>\n",
       "    </tr>\n",
       "    <tr>\n",
       "      <th>2</th>\n",
       "      <td>1003</td>\n",
       "      <td>C033</td>\n",
       "      <td>2023-01-03</td>\n",
       "      <td>1579.96</td>\n",
       "      <td>Debit</td>\n",
       "      <td>South</td>\n",
       "    </tr>\n",
       "    <tr>\n",
       "      <th>3</th>\n",
       "      <td>1004</td>\n",
       "      <td>C142</td>\n",
       "      <td>2023-01-04</td>\n",
       "      <td>1579.62</td>\n",
       "      <td>Credit</td>\n",
       "      <td>East</td>\n",
       "    </tr>\n",
       "    <tr>\n",
       "      <th>4</th>\n",
       "      <td>1005</td>\n",
       "      <td>C035</td>\n",
       "      <td>2023-01-05</td>\n",
       "      <td>3719.21</td>\n",
       "      <td>Debit</td>\n",
       "      <td>North</td>\n",
       "    </tr>\n",
       "  </tbody>\n",
       "</table>\n",
       "</div>"
      ],
      "text/plain": [
       "   Transaction_ID Customer_ID        Date   Amount Transaction_Type Region\n",
       "0            1001        C190  2023-01-01   798.68           Credit  North\n",
       "1            1002        C016  2023-01-02   906.97            Debit  South\n",
       "2            1003        C033  2023-01-03  1579.96            Debit  South\n",
       "3            1004        C142  2023-01-04  1579.62           Credit   East\n",
       "4            1005        C035  2023-01-05  3719.21            Debit  North"
      ]
     },
     "execution_count": 2,
     "metadata": {},
     "output_type": "execute_result"
    }
   ],
   "source": [
    "import pandas as pd\n",
    "file_pat= 'base_financiera.csv'\n",
    "base_financiera_data = pd.read_csv(file_pat)\n",
    "base_financiera_data.head()\n"
   ]
  },
  {
   "cell_type": "markdown",
   "metadata": {},
   "source": [
    "8. Filtra todas las transacciones de tipo \"Debit\" en las que el monto sea mayor a 200, y calcula el monto total de esas transacciones. Además, determina cuántos clientes únicos realizaron esas transacciones."
   ]
  },
  {
   "cell_type": "code",
   "execution_count": 15,
   "metadata": {},
   "outputs": [
    {
     "name": "stdout",
     "output_type": "stream",
     "text": [
      "      Transaction_ID Customer_ID        Date   Amount Transaction_Type Region\n",
      "1               1002        C016  2023-01-02   906.97            Debit  South\n",
      "2               1003        C033  2023-01-03  1579.96            Debit  South\n",
      "4               1005        C035  2023-01-05  3719.21            Debit  North\n",
      "5               1006        C078  2023-01-06  3127.58            Debit   West\n",
      "8               1009        C031  2023-01-09  4044.73            Debit   West\n",
      "...              ...         ...         ...      ...              ...    ...\n",
      "2016            1747        C171  2023-01-27  2498.66            Debit   West\n",
      "2021            2665        C072  2023-01-25  3060.79            Debit  South\n",
      "2026            2180        C072  2023-01-20  4406.49            Debit  South\n",
      "2027            1965        C022  2023-01-05   676.48            Debit  North\n",
      "2028            1793        C107  2023-02-02  4099.63            Debit  North\n",
      "\n",
      "[1094 rows x 6 columns]\n",
      "      Transaction_ID Customer_ID        Date   Amount Transaction_Type Region\n",
      "1               1002        C016  2023-01-02   906.97            Debit  South\n",
      "2               1003        C033  2023-01-03  1579.96            Debit  South\n",
      "4               1005        C035  2023-01-05  3719.21            Debit  North\n",
      "5               1006        C078  2023-01-06  3127.58            Debit   West\n",
      "8               1009        C031  2023-01-09  4044.73            Debit   West\n",
      "...              ...         ...         ...      ...              ...    ...\n",
      "1582            2583        C161  2023-01-23  2688.43            Debit   West\n",
      "1599            2600        C099  2023-02-09  3377.37            Debit  North\n",
      "1611            2612        C043  2023-01-12  1431.58            Debit  North\n",
      "1665            2666        C148  2023-01-26  4080.94            Debit  North\n",
      "1749            2750        C135  2023-01-30  2110.09            Debit  South\n",
      "\n",
      "[200 rows x 6 columns]\n",
      "200\n"
     ]
    }
   ],
   "source": [
    "# Solución\n",
    "transac_debit = base_financiera_data[(base_financiera_data['Amount'] > 200) & (base_financiera_data['Transaction_Type'] == \"Debit\")]\n",
    "sin_dup=transac_debit.drop_duplicates(subset='Customer_ID')\n",
    "cantidad_de_clientes_unicos = sin_dup.shape[0]\n",
    "#unic_cli=cantidad_de_clientes.drop\n",
    "print(transac_debit)\n",
    "print(sin_dup)\n",
    "print(cantidad_de_clientes_unicos)"
   ]
  },
  {
   "cell_type": "markdown",
   "metadata": {},
   "source": [
    "9. Identifica las transacciones con valores nulos en la columna (`Amount`) . Rellena esos valores con la mediana de los montos por tipo de transacción (`Transaction_Type`) y luego calcula el monto total de transacciones por región (`region`) ."
   ]
  },
  {
   "cell_type": "code",
   "execution_count": 3,
   "metadata": {},
   "outputs": [
    {
     "name": "stdout",
     "output_type": "stream",
     "text": [
      "113\n",
      "0\n",
      "Region\n",
      "East     1.268184e+06\n",
      "North    1.324418e+06\n",
      "South    1.209018e+06\n",
      "West     1.235393e+06\n",
      "Name: Amount, dtype: float64\n"
     ]
    }
   ],
   "source": [
    "# Solución\n",
    "only_credit = base_financiera_data[base_financiera_data['Transaction_Type']=='Credit']\n",
    "media_credit = only_credit['Amount'].mean()\n",
    "only_debit = base_financiera_data[base_financiera_data['Transaction_Type']=='Debit']\n",
    "media_debit = only_debit['Amount'].mean()\n",
    "#print(base_financiera_data)\n",
    "print(base_financiera_data['Amount'].isnull().sum())\n",
    "#rellenamos valores\n",
    "base_financiera_data['Amount'] = base_financiera_data.groupby(['Transaction_Type', 'Region'])['Amount'].transform(lambda x: x.fillna(x.mean()))\n",
    "#print(base_financiera_data)\n",
    "print(base_financiera_data['Amount'].isnull().sum())\n",
    "#calculamos el monto total por regiones\n",
    "region_sums = base_financiera_data.groupby('Region')['Amount'].sum()\n",
    "print(region_sums)\n"
   ]
  },
  {
   "cell_type": "markdown",
   "metadata": {},
   "source": [
    "10. Busca transacciones duplicadas considerando las columnas (`Customer_ID`) y (`Date`). Elimina los duplicados manteniendo solo la primera ocurrencia. Luego, agrupa las transacciones restantes por (`Customer_ID`) y calcula el monto promedio y la cantidad de transacciones por cliente."
   ]
  },
  {
   "cell_type": "code",
   "execution_count": null,
   "metadata": {},
   "outputs": [
    {
     "name": "stdout",
     "output_type": "stream",
     "text": [
      "      Transaction_ID Customer_ID        Date   Amount Transaction_Type Region\n",
      "6               1007        C154  2023-01-07  2959.36           Credit   East\n",
      "7               1008        C150  2023-01-08  1603.02           Credit  South\n",
      "11              1012        C025  2023-01-12  4294.25            Debit   East\n",
      "26              1027        C162  2023-01-27  3180.86            Debit  North\n",
      "29              1030        C049  2023-01-30   330.36           Credit  North\n",
      "...              ...         ...         ...      ...              ...    ...\n",
      "2025            1100        C175  2023-01-20  2137.91           Credit   East\n",
      "2026            2180        C072  2023-01-20  4406.49            Debit  South\n",
      "2027            1965        C022  2023-01-05   676.48            Debit  North\n",
      "2028            1793        C107  2023-02-02  4099.63            Debit  North\n",
      "2029            1030        C049  2023-01-30   330.36           Credit  North\n",
      "\n",
      "[444 rows x 6 columns]\n",
      "Customer_ID\n",
      "C001    17\n",
      "C002     9\n",
      "C003    14\n",
      "C004     7\n",
      "C005     6\n",
      "        ..\n",
      "C196    10\n",
      "C197    14\n",
      "C198    12\n",
      "C199     5\n",
      "C200     5\n",
      "Name: Customer_ID, Length: 200, dtype: int64\n"
     ]
    }
   ],
   "source": [
    "# Solución\n",
    "duplicados = base_financiera_data[base_financiera_data.duplicated(subset=['Customer_ID', 'Date'], keep=False)]\n",
    "print(duplicados)\n",
    "#print(base_financiera_data)\n",
    "\n",
    "no_duplicados = base_financiera_data.drop_duplicates(subset=['Customer_ID', 'Date'])\n",
    "#print(no_duplicados)\n",
    "\n",
    "grup_CID = no_duplicados.groupby('Customer_ID')\n",
    "promedio = grup_CID['Amount'].mean()\n",
    "print(promedio)\n",
    "conteo_CID = grup_CID['Customer_ID'].count()\n",
    "print(conteo_CID)"
   ]
  }
 ],
 "metadata": {
  "hide_input": false,
  "kernelspec": {
   "display_name": "base",
   "language": "python",
   "name": "python3"
  },
  "language_info": {
   "codemirror_mode": {
    "name": "ipython",
    "version": 3
   },
   "file_extension": ".py",
   "mimetype": "text/x-python",
   "name": "python",
   "nbconvert_exporter": "python",
   "pygments_lexer": "ipython3",
   "version": "3.12.7"
  },
  "toc": {
   "base_numbering": 1,
   "nav_menu": {},
   "number_sections": true,
   "sideBar": true,
   "skip_h1_title": false,
   "title_cell": "Table of Contents",
   "title_sidebar": "Contents",
   "toc_cell": false,
   "toc_position": {},
   "toc_section_display": true,
   "toc_window_display": false
  }
 },
 "nbformat": 4,
 "nbformat_minor": 4
}
