{
 "cells": [
  {
   "cell_type": "markdown",
   "metadata": {},
   "source": [
    "# **Tarea Nº 4**"
   ]
  },
  {
   "cell_type": "markdown",
   "metadata": {},
   "source": [
    "- Fecha y hora de entrega: Domingo 12 de enero, 11:59pm\n",
    "- Agregue los nombres de las personas con las que discutió esta tarea: ____ Armando Paredes ______\n",
    "- Envíe su tarea haciendo el `push` de su código a su repo en GitHub Classroom: "
   ]
  },
  {
   "cell_type": "markdown",
   "metadata": {},
   "source": [
    "## **Mercado de autos usados**"
   ]
  },
  {
   "cell_type": "markdown",
   "metadata": {},
   "source": [
    "Importa el conjunto de datos `neoauto_20240924.csv`\n",
    "    "
   ]
  },
  {
   "cell_type": "code",
   "execution_count": 19,
   "metadata": {},
   "outputs": [
    {
     "data": {
      "text/html": [
       "<div>\n",
       "<style scoped>\n",
       "    .dataframe tbody tr th:only-of-type {\n",
       "        vertical-align: middle;\n",
       "    }\n",
       "\n",
       "    .dataframe tbody tr th {\n",
       "        vertical-align: top;\n",
       "    }\n",
       "\n",
       "    .dataframe thead th {\n",
       "        text-align: right;\n",
       "    }\n",
       "</style>\n",
       "<table border=\"1\" class=\"dataframe\">\n",
       "  <thead>\n",
       "    <tr style=\"text-align: right;\">\n",
       "      <th></th>\n",
       "      <th>value</th>\n",
       "      <th>item_id</th>\n",
       "      <th>item_price</th>\n",
       "      <th>item_name</th>\n",
       "      <th>item_category</th>\n",
       "      <th>item_category_2</th>\n",
       "      <th>item_brand</th>\n",
       "      <th>item_km</th>\n",
       "      <th>item_year</th>\n",
       "      <th>item_transmission</th>\n",
       "      <th>...</th>\n",
       "      <th>item_location_province</th>\n",
       "      <th>item_tag</th>\n",
       "      <th>item_advertiser</th>\n",
       "      <th>item_credit</th>\n",
       "      <th>item_verified</th>\n",
       "      <th>item_financed_by</th>\n",
       "      <th>santander_price</th>\n",
       "      <th>item_publication_slug</th>\n",
       "      <th>item_publication_type</th>\n",
       "      <th>item_publication_type_Id</th>\n",
       "    </tr>\n",
       "  </thead>\n",
       "  <tbody>\n",
       "    <tr>\n",
       "      <th>0</th>\n",
       "      <td>29200</td>\n",
       "      <td>1807331</td>\n",
       "      <td>29200.0</td>\n",
       "      <td>toyota hilux 2021</td>\n",
       "      <td>autos</td>\n",
       "      <td>Pick Up</td>\n",
       "      <td>TOYOTA</td>\n",
       "      <td>51635.0</td>\n",
       "      <td>2021</td>\n",
       "      <td>Mecánica</td>\n",
       "      <td>...</td>\n",
       "      <td>lima</td>\n",
       "      <td>Como nuevo</td>\n",
       "      <td>Erick Bazán Ubaldo</td>\n",
       "      <td>True</td>\n",
       "      <td>True</td>\n",
       "      <td>Santander</td>\n",
       "      <td>NaN</td>\n",
       "      <td>auto/usado/toyota-hilux-2021-1807331</td>\n",
       "      <td>PREMIUM</td>\n",
       "      <td>25</td>\n",
       "    </tr>\n",
       "    <tr>\n",
       "      <th>1</th>\n",
       "      <td>98500</td>\n",
       "      <td>1807393</td>\n",
       "      <td>98500.0</td>\n",
       "      <td>lexus lx 600 2023</td>\n",
       "      <td>autos</td>\n",
       "      <td>Camionetas Suv</td>\n",
       "      <td>LEXUS</td>\n",
       "      <td>15000.0</td>\n",
       "      <td>2023</td>\n",
       "      <td>Automática - Secuencial</td>\n",
       "      <td>...</td>\n",
       "      <td>lima</td>\n",
       "      <td>Como nuevo</td>\n",
       "      <td>Asesor Gabriel NovoCar</td>\n",
       "      <td>False</td>\n",
       "      <td>True</td>\n",
       "      <td>NaN</td>\n",
       "      <td>NaN</td>\n",
       "      <td>auto/usado/lexus-lx-600-2023-1807393</td>\n",
       "      <td>PREMIUM</td>\n",
       "      <td>25</td>\n",
       "    </tr>\n",
       "    <tr>\n",
       "      <th>2</th>\n",
       "      <td>16800</td>\n",
       "      <td>1739308</td>\n",
       "      <td>17800.0</td>\n",
       "      <td>bmw 520-i 2016</td>\n",
       "      <td>autos</td>\n",
       "      <td>Sedan</td>\n",
       "      <td>BMW</td>\n",
       "      <td>66000.0</td>\n",
       "      <td>2016</td>\n",
       "      <td>Automática - Secuencial</td>\n",
       "      <td>...</td>\n",
       "      <td>lima</td>\n",
       "      <td>Ocasión</td>\n",
       "      <td>Carlos Chauca</td>\n",
       "      <td>True</td>\n",
       "      <td>True</td>\n",
       "      <td>Santander</td>\n",
       "      <td>16800.0</td>\n",
       "      <td>auto/usado/bmw-520-i-2016-1739308</td>\n",
       "      <td>PREMIUM</td>\n",
       "      <td>25</td>\n",
       "    </tr>\n",
       "    <tr>\n",
       "      <th>3</th>\n",
       "      <td>15900</td>\n",
       "      <td>1805714</td>\n",
       "      <td>16900.0</td>\n",
       "      <td>chevrolet captiva 2021</td>\n",
       "      <td>autos</td>\n",
       "      <td>Camionetas Suv</td>\n",
       "      <td>CHEVROLET</td>\n",
       "      <td>40300.0</td>\n",
       "      <td>2021</td>\n",
       "      <td>Automática - Secuencial</td>\n",
       "      <td>...</td>\n",
       "      <td>santa</td>\n",
       "      <td>Premium</td>\n",
       "      <td>Darwin Américo Barrón Pastor</td>\n",
       "      <td>True</td>\n",
       "      <td>True</td>\n",
       "      <td>Santander</td>\n",
       "      <td>15900.0</td>\n",
       "      <td>auto/usado/chevrolet-captiva-2021-1805714</td>\n",
       "      <td>PREMIUM</td>\n",
       "      <td>25</td>\n",
       "    </tr>\n",
       "    <tr>\n",
       "      <th>4</th>\n",
       "      <td>12500</td>\n",
       "      <td>1806332</td>\n",
       "      <td>12500.0</td>\n",
       "      <td>dfsk glory 500 2023</td>\n",
       "      <td>autos</td>\n",
       "      <td>Camionetas Suv</td>\n",
       "      <td>DFSK</td>\n",
       "      <td>33000.0</td>\n",
       "      <td>2023</td>\n",
       "      <td>Mecánica</td>\n",
       "      <td>...</td>\n",
       "      <td>lima</td>\n",
       "      <td>Premium</td>\n",
       "      <td>GORDILLO FERNANDO</td>\n",
       "      <td>True</td>\n",
       "      <td>True</td>\n",
       "      <td>Santander</td>\n",
       "      <td>NaN</td>\n",
       "      <td>auto/usado/dfsk-glory-500-2023-1806332</td>\n",
       "      <td>PREMIUM</td>\n",
       "      <td>25</td>\n",
       "    </tr>\n",
       "  </tbody>\n",
       "</table>\n",
       "<p>5 rows × 23 columns</p>\n",
       "</div>"
      ],
      "text/plain": [
       "   value  item_id  item_price               item_name item_category  \\\n",
       "0  29200  1807331     29200.0       toyota hilux 2021         autos   \n",
       "1  98500  1807393     98500.0       lexus lx 600 2023         autos   \n",
       "2  16800  1739308     17800.0          bmw 520-i 2016         autos   \n",
       "3  15900  1805714     16900.0  chevrolet captiva 2021         autos   \n",
       "4  12500  1806332     12500.0     dfsk glory 500 2023         autos   \n",
       "\n",
       "  item_category_2 item_brand  item_km  item_year        item_transmission  \\\n",
       "0         Pick Up     TOYOTA  51635.0       2021                 Mecánica   \n",
       "1  Camionetas Suv      LEXUS  15000.0       2023  Automática - Secuencial   \n",
       "2           Sedan        BMW  66000.0       2016  Automática - Secuencial   \n",
       "3  Camionetas Suv  CHEVROLET  40300.0       2021  Automática - Secuencial   \n",
       "4  Camionetas Suv       DFSK  33000.0       2023                 Mecánica   \n",
       "\n",
       "   ... item_location_province    item_tag               item_advertiser  \\\n",
       "0  ...                   lima  Como nuevo            Erick Bazán Ubaldo   \n",
       "1  ...                   lima  Como nuevo        Asesor Gabriel NovoCar   \n",
       "2  ...                   lima     Ocasión                 Carlos Chauca   \n",
       "3  ...                  santa     Premium  Darwin Américo Barrón Pastor   \n",
       "4  ...                   lima     Premium             GORDILLO FERNANDO   \n",
       "\n",
       "  item_credit item_verified item_financed_by  santander_price  \\\n",
       "0        True          True        Santander              NaN   \n",
       "1       False          True              NaN              NaN   \n",
       "2        True          True        Santander          16800.0   \n",
       "3        True          True        Santander          15900.0   \n",
       "4        True          True        Santander              NaN   \n",
       "\n",
       "                       item_publication_slug item_publication_type  \\\n",
       "0       auto/usado/toyota-hilux-2021-1807331               PREMIUM   \n",
       "1       auto/usado/lexus-lx-600-2023-1807393               PREMIUM   \n",
       "2          auto/usado/bmw-520-i-2016-1739308               PREMIUM   \n",
       "3  auto/usado/chevrolet-captiva-2021-1805714               PREMIUM   \n",
       "4     auto/usado/dfsk-glory-500-2023-1806332               PREMIUM   \n",
       "\n",
       "   item_publication_type_Id  \n",
       "0                        25  \n",
       "1                        25  \n",
       "2                        25  \n",
       "3                        25  \n",
       "4                        25  \n",
       "\n",
       "[5 rows x 23 columns]"
      ]
     },
     "execution_count": 19,
     "metadata": {},
     "output_type": "execute_result"
    }
   ],
   "source": [
    "import pandas as pd\n",
    "\n",
    "file_path = 'neoauto_20240924.csv'\n",
    "\n",
    "neoauto_data = pd.read_csv(file_path)\n",
    "\n",
    "neoauto_data.head()\n"
   ]
  },
  {
   "cell_type": "markdown",
   "metadata": {},
   "source": [
    "1. ¿Cuál es el precio promedio de los autos de cada marca (`item_brand`) publicados en cada subcategoría (`item_category_2`)?"
   ]
  },
  {
   "cell_type": "code",
   "execution_count": 20,
   "metadata": {},
   "outputs": [
    {
     "name": "stdout",
     "output_type": "stream",
     "text": [
      "          Marca    Subcategoría  Precio Promedio\n",
      "0    ALFA-ROMEO       Hatchback           8500.0\n",
      "1    ALFA-ROMEO           Sedan           2500.0\n",
      "2  ASTON MARTIN  Camionetas Suv         229000.0\n",
      "3  ASTON MARTIN       Deportivo         169990.0\n",
      "4  ASTON MARTIN           Sedan         149900.0\n"
     ]
    }
   ],
   "source": [
    "precio_promedio = data.groupby(['item_brand', 'item_category_2'])['item_price'].mean().reset_index()\n",
    "\n",
    "precio_promedio.columns = ['Marca', 'Subcategoría', 'Precio Promedio']\n",
    "\n",
    "print(precio_promedio.head())"
   ]
  },
  {
   "cell_type": "markdown",
   "metadata": {},
   "source": [
    "2. ¿Cuántos autos tienen más de 100,000 kilómetros (`item_km`) pero un precio (`item_price`) menor al promedio general?"
   ]
  },
  {
   "cell_type": "code",
   "execution_count": 21,
   "metadata": {},
   "outputs": [
    {
     "name": "stdout",
     "output_type": "stream",
     "text": [
      "El número de autos con más de 100,000 kilómetros y precio menor al promedio general es: 497\n"
     ]
    }
   ],
   "source": [
    "precio_promedio_general = data['item_price'].mean()\n",
    "\n",
    "autos_filtrados = data[(data['item_km'] > 100000) & (data['item_price'] < precio_promedio_general)]\n",
    "\n",
    "cantidad_autos = autos_filtrados.shape[0]\n",
    "\n",
    "print(f\"El número de autos con más de 100,000 kilómetros y precio menor al promedio general es: {cantidad_autos}\")\n"
   ]
  },
  {
   "cell_type": "markdown",
   "metadata": {},
   "source": [
    "3. Encuentra el modelo (`item_name`) más caro y el más barato de cada marca (`item_brand`)."
   ]
  },
  {
   "cell_type": "code",
   "execution_count": 38,
   "metadata": {},
   "outputs": [
    {
     "name": "stdout",
     "output_type": "stream",
     "text": [
      "          Marca          Modelo_Mas_Caro  Precio_Mas_Caro  \\\n",
      "0    ALFA-ROMEO      alfa-romeo 147 2006           8500.0   \n",
      "1  ASTON MARTIN    aston martin dbx 2021         229000.0   \n",
      "2          AUDI           audi rs 6 2024         220000.0   \n",
      "3        AUSTIN  austin mini cooper 1970              1.0   \n",
      "4          BAIC            baic x55 2021          12800.0   \n",
      "\n",
      "         Modelo_Mas_Barato  Precio_Mas_Barato  \n",
      "0  alfa-romeo alfasud 1982             2500.0  \n",
      "1   aston martin db11 2017           149900.0  \n",
      "2       audi a3 sedan 2015                0.0  \n",
      "3  austin mini cooper 1970                1.0  \n",
      "4           baic plus 2018             7500.0  \n"
     ]
    }
   ],
   "source": [
    "mas_caro = data.loc[data.groupby('item_brand')['item_price'].idxmax()]\n",
    "mas_barato = data.loc[data.groupby('item_brand')['item_price'].idxmin()]\n",
    "\n",
    "modelos_extremos = pd.merge(\n",
    "    mas_caro[['item_brand', 'item_name', 'item_price']],\n",
    "    mas_barato[['item_brand', 'item_name', 'item_price']],\n",
    "    on='item_brand',\n",
    "    suffixes=('_Mas_Caro', '_Mas_Barato')\n",
    ")\n",
    "\n",
    "modelos_extremos.columns = ['Marca', 'Modelo_Mas_Caro', 'Precio_Mas_Caro', 'Modelo_Mas_Barato', 'Precio_Mas_Barato']\n",
    "\n",
    "print(modelos_extremos.head())"
   ]
  },
  {
   "cell_type": "markdown",
   "metadata": {},
   "source": [
    "4. Encuentra las tres marcas con mayor número de autos financiados por Santander (`item_financed_by`). "
   ]
  },
  {
   "cell_type": "code",
   "execution_count": 23,
   "metadata": {},
   "outputs": [
    {
     "name": "stdout",
     "output_type": "stream",
     "text": [
      "Las tres marcas con mayor número de autos financiados por Santander son:\n",
      "item_brand\n",
      "BMW       296\n",
      "TOYOTA    261\n",
      "NISSAN    228\n",
      "Name: count, dtype: int64\n"
     ]
    }
   ],
   "source": [
    "autos_santander = data[data['item_financed_by'] == 'Santander']\n",
    "\n",
    "autos_por_marca = autos_santander['item_brand'].value_counts()\n",
    "\n",
    "top_3_marcas = autos_por_marca.head(3)\n",
    "\n",
    "print(\"Las tres marcas con mayor número de autos financiados por Santander son:\")\n",
    "print(top_3_marcas)\n"
   ]
  },
  {
   "cell_type": "markdown",
   "metadata": {},
   "source": [
    "5. Agrupa las publicaciones por tipo de transmisión (`item_transmission`) y calcula la desviación estándar del precio (`item_price`) para cada tipo.  "
   ]
  },
  {
   "cell_type": "code",
   "execution_count": 24,
   "metadata": {},
   "outputs": [
    {
     "data": {
      "text/html": [
       "<div>\n",
       "<style scoped>\n",
       "    .dataframe tbody tr th:only-of-type {\n",
       "        vertical-align: middle;\n",
       "    }\n",
       "\n",
       "    .dataframe tbody tr th {\n",
       "        vertical-align: top;\n",
       "    }\n",
       "\n",
       "    .dataframe thead th {\n",
       "        text-align: right;\n",
       "    }\n",
       "</style>\n",
       "<table border=\"1\" class=\"dataframe\">\n",
       "  <thead>\n",
       "    <tr style=\"text-align: right;\">\n",
       "      <th></th>\n",
       "      <th>item_transmission</th>\n",
       "      <th>price_std_dev</th>\n",
       "    </tr>\n",
       "  </thead>\n",
       "  <tbody>\n",
       "    <tr>\n",
       "      <th>0</th>\n",
       "      <td>Automática</td>\n",
       "      <td>15332.729048</td>\n",
       "    </tr>\n",
       "    <tr>\n",
       "      <th>1</th>\n",
       "      <td>Automática - Secuencial</td>\n",
       "      <td>22678.641589</td>\n",
       "    </tr>\n",
       "    <tr>\n",
       "      <th>2</th>\n",
       "      <td>Mecánica</td>\n",
       "      <td>8137.122127</td>\n",
       "    </tr>\n",
       "  </tbody>\n",
       "</table>\n",
       "</div>"
      ],
      "text/plain": [
       "         item_transmission  price_std_dev\n",
       "0               Automática   15332.729048\n",
       "1  Automática - Secuencial   22678.641589\n",
       "2                 Mecánica    8137.122127"
      ]
     },
     "execution_count": 24,
     "metadata": {},
     "output_type": "execute_result"
    }
   ],
   "source": [
    "grouped_transmission = neoauto_data.groupby('item_transmission')\n",
    "\n",
    "transmission_price_std_detailed = grouped_transmission['item_price'].std()\n",
    "\n",
    "transmission_price_std_detailed_df = transmission_price_std_detailed.reset_index()\n",
    "transmission_price_std_detailed_df.rename(columns={'item_price': 'price_std_dev'}, inplace=True)\n",
    "\n",
    "transmission_price_std_detailed_df\n",
    "\n"
   ]
  },
  {
   "cell_type": "markdown",
   "metadata": {},
   "source": [
    "6. ¿Cuál es el kilometraje promedio de las publicaciones con el tag \"Premium\" y de las publicaciones con el tag \"Como nuevo\"?"
   ]
  },
  {
   "cell_type": "code",
   "execution_count": 42,
   "metadata": {},
   "outputs": [
    {
     "name": "stdout",
     "output_type": "stream",
     "text": [
      "El kilometraje promedio de las publicaciones con el tag 'Premium' es: 48400.24\n",
      "El kilometraje promedio de las publicaciones con el tag 'Como nuevo' es: 35963.48\n"
     ]
    }
   ],
   "source": [
    "km_premium = data[data['item_tag'].str.contains('Premium', na=False)]['item_km'].mean()\n",
    "\n",
    "km_como_nuevo = data[data['item_tag'].str.contains('Como nuevo', na=False)]['item_km'].mean()\n",
    "\n",
    "print(f\"El kilometraje promedio de las publicaciones con el tag 'Premium' es: {km_premium:.2f}\")\n",
    "print(f\"El kilometraje promedio de las publicaciones con el tag 'Como nuevo' es: {km_como_nuevo:.2f}\")\n",
    "\n"
   ]
  },
  {
   "cell_type": "markdown",
   "metadata": {},
   "source": [
    "7. ¿Cuáles son las marcas de vehículas para los que todos sus modelos fabricados en los últimos 5 años tienen al menos 5 publicaciones cada una?"
   ]
  },
  {
   "cell_type": "code",
   "execution_count": 54,
   "metadata": {},
   "outputs": [
    {
     "name": "stdout",
     "output_type": "stream",
     "text": [
      "Marcas que cumplen con el criterio: ['BMW', 'FORD', 'HYUNDAI', 'KIA', 'MAZDA', 'NISSAN', 'TOYOTA', 'VOLKSWAGEN']\n"
     ]
    }
   ],
   "source": [
    "from datetime import datetime\n",
    "año_actual = datetime.now().year\n",
    "vehiculos_recientes = data[data['item_year'] >= (año_actual - 5)]\n",
    "publicaciones_por_modelo = vehiculos_recientes.groupby(['item_brand', 'item_name']).size().reset_index(name='conteo')\n",
    "modelos_validos[modelos_validos['item_brand'].isin(marcas_cumplen)]\n",
    "marcas_validas = modelos_validos.groupby('item_brand')['item_name'].nunique() == modelos_validos.groupby('item_brand')['item_name'].size()\n",
    "marcas_cumplen = marcas_validas[marcas_validas & (modelos_validos.groupby('item_brand')['item_name'].nunique() >= 3)].index.tolist()\n",
    "print(f\"Marcas que cumplen con el criterio: {marcas_cumplen}\")\n",
    "\n",
    "\n",
    "\n",
    "\n"
   ]
  },
  {
   "cell_type": "markdown",
   "metadata": {},
   "source": [
    "## **Evolución económica internacional**"
   ]
  },
  {
   "cell_type": "markdown",
   "metadata": {},
   "source": [
    "Importa el conjunto de datos de la hoja \"Data\" del archivo `pwt1001.xlsx`. El diccionario de variables está disponible en la hoja \"Legend\" del archivo Excel.\n",
    "    "
   ]
  },
  {
   "cell_type": "markdown",
   "metadata": {},
   "source": [
    "1. Calcule el PBI per cápita real ajustado por poder de paridad de compra (PPP). Use la variable de PBI que se calcula por gasto y la población. ¿Cuáles son los 10 países top?"
   ]
  },
  {
   "cell_type": "code",
   "execution_count": 27,
   "metadata": {},
   "outputs": [],
   "source": [
    "# Solución"
   ]
  },
  {
   "cell_type": "markdown",
   "metadata": {},
   "source": [
    "2. Genera el ránking de los países con el mayor incremento del PBI per cápita real PPP entre los años 1990 y 2019. ¿Dónde se ubica Perú? Para los países que no tengan información para dichos años, puede utilizar datos provenientes de hasta dos años antes o después"
   ]
  },
  {
   "cell_type": "code",
   "execution_count": 28,
   "metadata": {},
   "outputs": [],
   "source": [
    "# Solución"
   ]
  },
  {
   "cell_type": "markdown",
   "metadata": {},
   "source": [
    "3. Para el periodo 2010-2019, calcule el promedio del índice del capital humano. ¿Qué relación existe entre esta variable y el PBI per cápita real PPP calculado previamente? ¿y el número de horas laboradas al año por los trabajadores?"
   ]
  },
  {
   "cell_type": "code",
   "execution_count": 29,
   "metadata": {},
   "outputs": [],
   "source": [
    "# Solución"
   ]
  },
  {
   "cell_type": "markdown",
   "metadata": {},
   "source": [
    "4. A partir de la variable del precio de los hogares, calcula los países y los años en los cuales se registró la mayor inflación anual para todo el periodo de tiempo disponible en la base de datos"
   ]
  },
  {
   "cell_type": "code",
   "execution_count": 30,
   "metadata": {},
   "outputs": [],
   "source": [
    "# Solución"
   ]
  },
  {
   "cell_type": "markdown",
   "metadata": {},
   "source": [
    "5. ¿Cuáles son los países con la mayor cantidad de missing values en la variable de productividad total de factores a precios corrientes?"
   ]
  },
  {
   "cell_type": "code",
   "execution_count": 31,
   "metadata": {},
   "outputs": [],
   "source": [
    "# Solución"
   ]
  },
  {
   "cell_type": "markdown",
   "metadata": {},
   "source": [
    "6.  Agrupa los datos por país y calcula el promedio de las horas trabajadas anuales (avh) y de la educación promedio (hc) para el periodo 2000-2020."
   ]
  },
  {
   "cell_type": "code",
   "execution_count": 32,
   "metadata": {},
   "outputs": [],
   "source": [
    "# Solución"
   ]
  },
  {
   "cell_type": "markdown",
   "metadata": {},
   "source": [
    "7.  Genere una variable que ordene a los países según el porcetaje de formación brutal de capital del 2019. Luego, estable diez grupos a manera de deciles. ¿En qué decil se ubica Péru? Vuelva a calcular usando la información de 1990. ¿El Perú se mantiene en el mismo décil o cambia?"
   ]
  },
  {
   "cell_type": "code",
   "execution_count": 33,
   "metadata": {},
   "outputs": [],
   "source": [
    "# Solución"
   ]
  },
  {
   "cell_type": "markdown",
   "metadata": {},
   "source": [
    "## **Transacciones Financieras**"
   ]
  },
  {
   "cell_type": "markdown",
   "metadata": {},
   "source": [
    "Importa el conjunto de datos `base_financiera.csv`\n",
    "    "
   ]
  },
  {
   "cell_type": "markdown",
   "metadata": {},
   "source": [
    "8. Filtra todas las transacciones de tipo \"Debit\" en las que el monto sea mayor a 200, y calcula el monto total de esas transacciones. Además, determina cuántos clientes únicos realizaron esas transacciones."
   ]
  },
  {
   "cell_type": "code",
   "execution_count": 34,
   "metadata": {},
   "outputs": [],
   "source": [
    "# Solución"
   ]
  },
  {
   "cell_type": "markdown",
   "metadata": {},
   "source": [
    "9. Identifica las transacciones con valores nulos en la columna (`Amount`) . Rellena esos valores con la mediana de los montos por tipo de transacción (`Transaction_Type`) y luego calcula el monto total de transacciones por región (`region`) ."
   ]
  },
  {
   "cell_type": "code",
   "execution_count": 35,
   "metadata": {},
   "outputs": [],
   "source": [
    "# Solución"
   ]
  },
  {
   "cell_type": "markdown",
   "metadata": {},
   "source": [
    "10. Busca transacciones duplicadas considerando las columnas (`Customer_ID`) y (`Date`). Elimina los duplicados manteniendo solo la primera ocurrencia. Luego, agrupa las transacciones restantes por (`Customer_ID`) y calcula el monto promedio y la cantidad de transacciones por cliente."
   ]
  },
  {
   "cell_type": "code",
   "execution_count": 36,
   "metadata": {},
   "outputs": [],
   "source": [
    "# Solución"
   ]
  }
 ],
 "metadata": {
  "hide_input": false,
  "kernelspec": {
   "display_name": "Python 3",
   "language": "python",
   "name": "python3"
  },
  "language_info": {
   "codemirror_mode": {
    "name": "ipython",
    "version": 3
   },
   "file_extension": ".py",
   "mimetype": "text/x-python",
   "name": "python",
   "nbconvert_exporter": "python",
   "pygments_lexer": "ipython3",
   "version": "3.13.1"
  },
  "toc": {
   "base_numbering": 1,
   "nav_menu": {},
   "number_sections": true,
   "sideBar": true,
   "skip_h1_title": false,
   "title_cell": "Table of Contents",
   "title_sidebar": "Contents",
   "toc_cell": false,
   "toc_position": {},
   "toc_section_display": true,
   "toc_window_display": false
  }
 },
 "nbformat": 4,
 "nbformat_minor": 4
}
